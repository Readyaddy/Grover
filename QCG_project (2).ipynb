{
  "nbformat": 4,
  "nbformat_minor": 0,
  "metadata": {
    "colab": {
      "name": "QCG project.ipynb",
      "provenance": []
    },
    "kernelspec": {
      "name": "python3",
      "display_name": "Python 3"
    },
    "language_info": {
      "name": "python"
    }
  },
  "cells": [
    {
      "cell_type": "code",
      "execution_count": 4,
      "metadata": {
        "colab": {
          "base_uri": "https://localhost:8080/"
        },
        "id": "x_43hmwKrmyK",
        "outputId": "9097d20d-dc5f-4cea-f10d-27f74849694c"
      },
      "outputs": [
        {
          "output_type": "stream",
          "name": "stdout",
          "text": [
            "Looking in indexes: https://pypi.org/simple, https://us-python.pkg.dev/colab-wheels/public/simple/\n",
            "Collecting qiskit\n",
            "  Downloading qiskit-0.36.2.tar.gz (13 kB)\n",
            "Collecting qiskit-terra==0.20.2\n",
            "  Downloading qiskit_terra-0.20.2-cp37-cp37m-manylinux_2_17_x86_64.manylinux2014_x86_64.whl (6.5 MB)\n",
            "\u001b[K     |████████████████████████████████| 6.5 MB 4.4 MB/s \n",
            "\u001b[?25hCollecting qiskit-aer==0.10.4\n",
            "  Downloading qiskit_aer-0.10.4-cp37-cp37m-manylinux_2_12_x86_64.manylinux2010_x86_64.whl (18.0 MB)\n",
            "\u001b[K     |████████████████████████████████| 18.0 MB 222 kB/s \n",
            "\u001b[?25hCollecting qiskit-ibmq-provider==0.19.1\n",
            "  Downloading qiskit_ibmq_provider-0.19.1-py3-none-any.whl (240 kB)\n",
            "\u001b[K     |████████████████████████████████| 240 kB 46.4 MB/s \n",
            "\u001b[?25hCollecting qiskit-ignis==0.7.1\n",
            "  Downloading qiskit_ignis-0.7.1-py3-none-any.whl (198 kB)\n",
            "\u001b[K     |████████████████████████████████| 198 kB 57.8 MB/s \n",
            "\u001b[?25hRequirement already satisfied: numpy>=1.16.3 in /usr/local/lib/python3.7/dist-packages (from qiskit-aer==0.10.4->qiskit) (1.21.6)\n",
            "Requirement already satisfied: scipy>=1.0 in /usr/local/lib/python3.7/dist-packages (from qiskit-aer==0.10.4->qiskit) (1.4.1)\n",
            "Requirement already satisfied: urllib3>=1.21.1 in /usr/local/lib/python3.7/dist-packages (from qiskit-ibmq-provider==0.19.1->qiskit) (1.24.3)\n",
            "Requirement already satisfied: python-dateutil>=2.8.0 in /usr/local/lib/python3.7/dist-packages (from qiskit-ibmq-provider==0.19.1->qiskit) (2.8.2)\n",
            "Collecting websocket-client>=1.0.1\n",
            "  Downloading websocket_client-1.3.2-py3-none-any.whl (54 kB)\n",
            "\u001b[K     |████████████████████████████████| 54 kB 2.3 MB/s \n",
            "\u001b[?25hCollecting requests-ntlm>=1.1.0\n",
            "  Downloading requests_ntlm-1.1.0-py2.py3-none-any.whl (5.7 kB)\n",
            "Requirement already satisfied: requests>=2.19 in /usr/local/lib/python3.7/dist-packages (from qiskit-ibmq-provider==0.19.1->qiskit) (2.23.0)\n",
            "Collecting websockets>=10.0\n",
            "  Downloading websockets-10.3-cp37-cp37m-manylinux_2_5_x86_64.manylinux1_x86_64.manylinux_2_12_x86_64.manylinux2010_x86_64.whl (112 kB)\n",
            "\u001b[K     |████████████████████████████████| 112 kB 61.7 MB/s \n",
            "\u001b[?25hRequirement already satisfied: setuptools>=40.1.0 in /usr/local/lib/python3.7/dist-packages (from qiskit-ignis==0.7.1->qiskit) (57.4.0)\n",
            "Collecting retworkx>=0.8.0\n",
            "  Downloading retworkx-0.11.0-cp37-cp37m-manylinux_2_5_x86_64.manylinux1_x86_64.manylinux_2_12_x86_64.manylinux2010_x86_64.whl (1.6 MB)\n",
            "\u001b[K     |████████████████████████████████| 1.6 MB 37.5 MB/s \n",
            "\u001b[?25hCollecting ply>=3.10\n",
            "  Downloading ply-3.11-py2.py3-none-any.whl (49 kB)\n",
            "\u001b[K     |████████████████████████████████| 49 kB 4.9 MB/s \n",
            "\u001b[?25hRequirement already satisfied: psutil>=5 in /usr/local/lib/python3.7/dist-packages (from qiskit-terra==0.20.2->qiskit) (5.4.8)\n",
            "Requirement already satisfied: sympy>=1.3 in /usr/local/lib/python3.7/dist-packages (from qiskit-terra==0.20.2->qiskit) (1.7.1)\n",
            "Requirement already satisfied: dill>=0.3 in /usr/local/lib/python3.7/dist-packages (from qiskit-terra==0.20.2->qiskit) (0.3.5.1)\n",
            "Collecting stevedore>=3.0.0\n",
            "  Downloading stevedore-3.5.0-py3-none-any.whl (49 kB)\n",
            "\u001b[K     |████████████████████████████████| 49 kB 5.3 MB/s \n",
            "\u001b[?25hCollecting tweedledum<2.0,>=1.1\n",
            "  Downloading tweedledum-1.1.1-cp37-cp37m-manylinux_2_12_x86_64.manylinux2010_x86_64.whl (943 kB)\n",
            "\u001b[K     |████████████████████████████████| 943 kB 59.5 MB/s \n",
            "\u001b[?25hCollecting scipy>=1.0\n",
            "  Downloading scipy-1.7.3-cp37-cp37m-manylinux_2_12_x86_64.manylinux2010_x86_64.whl (38.1 MB)\n",
            "\u001b[K     |████████████████████████████████| 38.1 MB 1.1 MB/s \n",
            "\u001b[?25hCollecting symengine>=0.9\n",
            "  Downloading symengine-0.9.2-cp37-cp37m-manylinux2010_x86_64.whl (37.5 MB)\n",
            "\u001b[K     |████████████████████████████████| 37.5 MB 1.2 MB/s \n",
            "\u001b[?25hCollecting python-constraint>=1.4\n",
            "  Downloading python-constraint-1.4.0.tar.bz2 (18 kB)\n",
            "Requirement already satisfied: six>=1.5 in /usr/local/lib/python3.7/dist-packages (from python-dateutil>=2.8.0->qiskit-ibmq-provider==0.19.1->qiskit) (1.15.0)\n",
            "Requirement already satisfied: idna<3,>=2.5 in /usr/local/lib/python3.7/dist-packages (from requests>=2.19->qiskit-ibmq-provider==0.19.1->qiskit) (2.10)\n",
            "Requirement already satisfied: certifi>=2017.4.17 in /usr/local/lib/python3.7/dist-packages (from requests>=2.19->qiskit-ibmq-provider==0.19.1->qiskit) (2022.5.18.1)\n",
            "Requirement already satisfied: chardet<4,>=3.0.2 in /usr/local/lib/python3.7/dist-packages (from requests>=2.19->qiskit-ibmq-provider==0.19.1->qiskit) (3.0.4)\n",
            "Collecting ntlm-auth>=1.0.2\n",
            "  Downloading ntlm_auth-1.5.0-py2.py3-none-any.whl (29 kB)\n",
            "Collecting cryptography>=1.3\n",
            "  Downloading cryptography-37.0.2-cp36-abi3-manylinux_2_24_x86_64.whl (4.0 MB)\n",
            "\u001b[K     |████████████████████████████████| 4.0 MB 27.6 MB/s \n",
            "\u001b[?25hRequirement already satisfied: cffi>=1.12 in /usr/local/lib/python3.7/dist-packages (from cryptography>=1.3->requests-ntlm>=1.1.0->qiskit-ibmq-provider==0.19.1->qiskit) (1.15.0)\n",
            "Requirement already satisfied: pycparser in /usr/local/lib/python3.7/dist-packages (from cffi>=1.12->cryptography>=1.3->requests-ntlm>=1.1.0->qiskit-ibmq-provider==0.19.1->qiskit) (2.21)\n",
            "Collecting pbr!=2.1.0,>=2.0.0\n",
            "  Downloading pbr-5.9.0-py2.py3-none-any.whl (112 kB)\n",
            "\u001b[K     |████████████████████████████████| 112 kB 58.8 MB/s \n",
            "\u001b[?25hRequirement already satisfied: importlib-metadata>=1.7.0 in /usr/local/lib/python3.7/dist-packages (from stevedore>=3.0.0->qiskit-terra==0.20.2->qiskit) (4.11.3)\n",
            "Requirement already satisfied: typing-extensions>=3.6.4 in /usr/local/lib/python3.7/dist-packages (from importlib-metadata>=1.7.0->stevedore>=3.0.0->qiskit-terra==0.20.2->qiskit) (4.2.0)\n",
            "Requirement already satisfied: zipp>=0.5 in /usr/local/lib/python3.7/dist-packages (from importlib-metadata>=1.7.0->stevedore>=3.0.0->qiskit-terra==0.20.2->qiskit) (3.8.0)\n",
            "Requirement already satisfied: mpmath>=0.19 in /usr/local/lib/python3.7/dist-packages (from sympy>=1.3->qiskit-terra==0.20.2->qiskit) (1.2.1)\n",
            "Building wheels for collected packages: qiskit, python-constraint\n",
            "  Building wheel for qiskit (setup.py) ... \u001b[?25l\u001b[?25hdone\n",
            "  Created wheel for qiskit: filename=qiskit-0.36.2-py3-none-any.whl size=11933 sha256=97bebc75ff70f0c8804d8322761dd54cd2dcd4bad853b53f1a381614a892023d\n",
            "  Stored in directory: /root/.cache/pip/wheels/36/f7/83/e2755ad17aa35bc145fce34e184aaf394a265a978d95caaabf\n",
            "  Building wheel for python-constraint (setup.py) ... \u001b[?25l\u001b[?25hdone\n",
            "  Created wheel for python-constraint: filename=python_constraint-1.4.0-py2.py3-none-any.whl size=24081 sha256=940f052f351d95824ae9c1a07a9112a8bcaa602dbc835d66de981604b71fdb5a\n",
            "  Stored in directory: /root/.cache/pip/wheels/07/27/db/1222c80eb1e431f3d2199c12569cb1cac60f562a451fe30479\n",
            "Successfully built qiskit python-constraint\n",
            "Installing collected packages: pbr, tweedledum, symengine, stevedore, scipy, retworkx, python-constraint, ply, ntlm-auth, cryptography, websockets, websocket-client, requests-ntlm, qiskit-terra, qiskit-ignis, qiskit-ibmq-provider, qiskit-aer, qiskit\n",
            "  Attempting uninstall: scipy\n",
            "    Found existing installation: scipy 1.4.1\n",
            "    Uninstalling scipy-1.4.1:\n",
            "      Successfully uninstalled scipy-1.4.1\n",
            "\u001b[31mERROR: pip's dependency resolver does not currently take into account all the packages that are installed. This behaviour is the source of the following dependency conflicts.\n",
            "albumentations 0.1.12 requires imgaug<0.2.7,>=0.2.5, but you have imgaug 0.2.9 which is incompatible.\u001b[0m\n",
            "Successfully installed cryptography-37.0.2 ntlm-auth-1.5.0 pbr-5.9.0 ply-3.11 python-constraint-1.4.0 qiskit-0.36.2 qiskit-aer-0.10.4 qiskit-ibmq-provider-0.19.1 qiskit-ignis-0.7.1 qiskit-terra-0.20.2 requests-ntlm-1.1.0 retworkx-0.11.0 scipy-1.7.3 stevedore-3.5.0 symengine-0.9.2 tweedledum-1.1.1 websocket-client-1.3.2 websockets-10.3\n"
          ]
        }
      ],
      "source": [
        "!pip install qiskit\n",
        "import qiskit as q"
      ]
    },
    {
      "cell_type": "code",
      "source": [
        "!pip install pylatexenc\n",
        "import pylatexenc"
      ],
      "metadata": {
        "colab": {
          "base_uri": "https://localhost:8080/"
        },
        "id": "agpu4b6u5_-Z",
        "outputId": "b1a5b5f2-5702-4214-a324-3c1d517bec6f"
      },
      "execution_count": 5,
      "outputs": [
        {
          "output_type": "stream",
          "name": "stdout",
          "text": [
            "Looking in indexes: https://pypi.org/simple, https://us-python.pkg.dev/colab-wheels/public/simple/\n",
            "Collecting pylatexenc\n",
            "  Downloading pylatexenc-2.10.tar.gz (162 kB)\n",
            "\u001b[K     |████████████████████████████████| 162 kB 5.1 MB/s \n",
            "\u001b[?25hBuilding wheels for collected packages: pylatexenc\n",
            "  Building wheel for pylatexenc (setup.py) ... \u001b[?25l\u001b[?25hdone\n",
            "  Created wheel for pylatexenc: filename=pylatexenc-2.10-py3-none-any.whl size=136835 sha256=7f3f5ed08c1d09087372b415e439f535a493608aed956906cd68b3b65ec34df0\n",
            "  Stored in directory: /root/.cache/pip/wheels/f1/8a/f5/33ee79d4473eb201b519fa40f989b842e373237395a3421f52\n",
            "Successfully built pylatexenc\n",
            "Installing collected packages: pylatexenc\n",
            "Successfully installed pylatexenc-2.10\n"
          ]
        }
      ]
    },
    {
      "cell_type": "code",
      "source": [
        "from qiskit import QuantumCircuit\n",
        "from qiskit.quantum_info import Statevector, Operator, DensityMatrix, ScalarOp\n",
        "from qiskit import QuantumRegister\n",
        "from qiskit import QuantumCircuit, assemble, Aer\n",
        "from qiskit.visualization import plot_histogram, plot_bloch_vector\n",
        "from math import sqrt, pi\n",
        "import matplotlib.pyplot as plt\n",
        "\n",
        "sim = Aer.get_backend('aer_simulator')  # Tell Qiskit how to simulate our circuit\n"
      ],
      "metadata": {
        "id": "54o3dNYjsmM7"
      },
      "execution_count": 6,
      "outputs": []
    },
    {
      "cell_type": "code",
      "source": [
        "import time\n",
        "import matplotlib.pyplot as plt\n",
        "from IPython import display\n",
        "True"
      ],
      "metadata": {
        "id": "4_P5xT7S510E",
        "colab": {
          "base_uri": "https://localhost:8080/"
        },
        "outputId": "3827b785-aabb-4681-f87c-de0a9afcf08a"
      },
      "execution_count": 7,
      "outputs": [
        {
          "output_type": "execute_result",
          "data": {
            "text/plain": [
              "True"
            ]
          },
          "metadata": {},
          "execution_count": 7
        }
      ]
    },
    {
      "cell_type": "code",
      "source": [
        "import numpy as np\n",
        "from qiskit.circuit.library import Diagonal\n",
        "from qiskit import QuantumCircuit\n",
        "from qiskit.quantum_info import Statevector, Operator, DensityMatrix, ScalarOp\n",
        "from qiskit.visualization import plot_state_qsphere, plot_histogram\n",
        "from qiskit.converters import circuit_to_dag, dag_to_circuit\n",
        "from qiskit import IBMQ, Aer, assemble, transpile\n"
      ],
      "metadata": {
        "id": "DNUNJz5rwSWo"
      },
      "execution_count": 36,
      "outputs": []
    },
    {
      "cell_type": "code",
      "source": [
        "def fun(a,b,c):\n",
        "  fun= (not c or (a and (not b)))\n",
        "  if fun==True:\n",
        "    fun=1\n",
        "  else :\n",
        "    fun=0\n",
        "  return fun"
      ],
      "metadata": {
        "id": "KFGRVudE63fJ"
      },
      "execution_count": 9,
      "outputs": []
    },
    {
      "cell_type": "code",
      "source": [
        "diag=np.arange(1024).reshape(32,32)\n",
        "for m in [0,1]:\n",
        "  for q in [0,1]:\n",
        "    for i in [0,1]:\n",
        "        if i==0:\n",
        "           a=False\n",
        "        else :\n",
        "            a=True\n",
        "        for j in [0,1]:\n",
        "           if j==0:\n",
        "              b=False\n",
        "           else :\n",
        "              b=True \n",
        "           for k in [0,1]:\n",
        "                if k==0:\n",
        "                   c=False\n",
        "                else :\n",
        "                   c=True \n",
        "                z=m*(16)+q*(8)+i*(4)+j*(2)+k\n",
        "                for y in range(0,32):\n",
        "                     if y==z:\n",
        "                        diag[y,z]=(-1)**(fun(a,b,c)) \n",
        "                     else:\n",
        "                        diag[y,z]=0\n",
        "print(diag)"
      ],
      "metadata": {
        "colab": {
          "base_uri": "https://localhost:8080/"
        },
        "id": "wMfguCGi4kfr",
        "outputId": "2e689ffc-f25d-470a-925e-081c5c9295ea"
      },
      "execution_count": 25,
      "outputs": [
        {
          "output_type": "stream",
          "name": "stdout",
          "text": [
            "[[-1  0  0 ...  0  0  0]\n",
            " [ 0  1  0 ...  0  0  0]\n",
            " [ 0  0 -1 ...  0  0  0]\n",
            " ...\n",
            " [ 0  0  0 ... -1  0  0]\n",
            " [ 0  0  0 ...  0 -1  0]\n",
            " [ 0  0  0 ...  0  0  1]]\n"
          ]
        }
      ]
    },
    {
      "cell_type": "code",
      "source": [
        "n=5\n",
        "diffuse_operator = 2 * DensityMatrix.from_label(n * '0') - Operator.from_label(n * 'I')\n",
        "diffuse_circuit = Diagonal(diffuse_operator.data.diagonal())\n",
        "print(diffuse_operator) "
      ],
      "metadata": {
        "colab": {
          "base_uri": "https://localhost:8080/"
        },
        "id": "OAWF2Ioq91sT",
        "outputId": "4281844e-fe51-42d9-c4f6-612fbd3b5ca3"
      },
      "execution_count": 98,
      "outputs": [
        {
          "output_type": "stream",
          "name": "stdout",
          "text": [
            "DensityMatrix([[ 1.+0.j,  0.+0.j,  0.+0.j, ...,  0.+0.j,  0.+0.j,  0.+0.j],\n",
            "               [ 0.+0.j, -1.+0.j,  0.+0.j, ...,  0.+0.j,  0.+0.j,  0.+0.j],\n",
            "               [ 0.+0.j,  0.+0.j, -1.+0.j, ...,  0.+0.j,  0.+0.j,  0.+0.j],\n",
            "               ...,\n",
            "               [ 0.+0.j,  0.+0.j,  0.+0.j, ..., -1.+0.j,  0.+0.j,  0.+0.j],\n",
            "               [ 0.+0.j,  0.+0.j,  0.+0.j, ...,  0.+0.j, -1.+0.j,  0.+0.j],\n",
            "               [ 0.+0.j,  0.+0.j,  0.+0.j, ...,  0.+0.j,  0.+0.j, -1.+0.j]],\n",
            "              dims=(2, 2, 2, 2, 2))\n"
          ]
        }
      ]
    },
    {
      "cell_type": "code",
      "source": [
        "#oracle code\n",
        "ora=QuantumCircuit(5,name='oracle')\n",
        "racl=Operator(diag)\n",
        "ora.unitary(racl,[0,1,2,3,4],label='ora')\n",
        "ora.draw()"
      ],
      "metadata": {
        "colab": {
          "base_uri": "https://localhost:8080/",
          "height": 186
        },
        "id": "_Dhtb4RPX0HV",
        "outputId": "bc15354c-ff44-4df1-a096-9beb23f4e74e"
      },
      "execution_count": 93,
      "outputs": [
        {
          "output_type": "execute_result",
          "data": {
            "text/plain": [
              "     ┌──────┐\n",
              "q_0: ┤0     ├\n",
              "     │      │\n",
              "q_1: ┤1     ├\n",
              "     │      │\n",
              "q_2: ┤2 ora ├\n",
              "     │      │\n",
              "q_3: ┤3     ├\n",
              "     │      │\n",
              "q_4: ┤4     ├\n",
              "     └──────┘"
            ],
            "text/html": [
              "<pre style=\"word-wrap: normal;white-space: pre;background: #fff0;line-height: 1.1;font-family: &quot;Courier New&quot;,Courier,monospace\">     ┌──────┐\n",
              "q_0: ┤0     ├\n",
              "     │      │\n",
              "q_1: ┤1     ├\n",
              "     │      │\n",
              "q_2: ┤2 ora ├\n",
              "     │      │\n",
              "q_3: ┤3     ├\n",
              "     │      │\n",
              "q_4: ┤4     ├\n",
              "     └──────┘</pre>"
            ]
          },
          "metadata": {},
          "execution_count": 93
        }
      ]
    },
    {
      "cell_type": "code",
      "source": [
        "grov_qr = QuantumRegister(5)\n",
        "grov_qc = QuantumCircuit(grov_qr, name='Ora')\n",
        "grov_qc.h([0,1,2,3,4])\n",
        "#1\n",
        "grov_qc.append(ora,[0,1,2,3,4])\n",
        "grov_qc.h([0,1,2,3,4])\n",
        "grov_qc.append(diffuse_circuit,[0,1,2,3,4])\n",
        "grov_qc.h([0,1,2,3,4])\n",
        "#2\n",
        "grov_qc.append(ora,[0,1,2,3,4])\n",
        "grov_qc.h([0,1,2,3,4])\n",
        "grov_qc.append(diffuse_circuit,[0,1,2,3,4])\n",
        "grov_qc.h([0,1,2,3,4])\n",
        "#3\n",
        "\n",
        "\n",
        "grov_qc.measure_all()\n",
        "grov_qc.draw()"
      ],
      "metadata": {
        "colab": {
          "base_uri": "https://localhost:8080/",
          "height": 417
        },
        "id": "VZeqfv5OlI4l",
        "outputId": "c7294ab9-e0f4-4315-a74f-fc28cbbedd49"
      },
      "execution_count": 127,
      "outputs": [
        {
          "output_type": "execute_result",
          "data": {
            "text/plain": [
              "         ┌───┐┌─────────┐┌───┐┌───────────┐┌───┐┌─────────┐┌───┐┌───────────┐»\n",
              "q2639_0: ┤ H ├┤0        ├┤ H ├┤0          ├┤ H ├┤0        ├┤ H ├┤0          ├»\n",
              "         ├───┤│         │├───┤│           │├───┤│         │├───┤│           │»\n",
              "q2639_1: ┤ H ├┤1        ├┤ H ├┤1          ├┤ H ├┤1        ├┤ H ├┤1          ├»\n",
              "         ├───┤│         │├───┤│           │├───┤│         │├───┤│           │»\n",
              "q2639_2: ┤ H ├┤2 oracle ├┤ H ├┤2 Diagonal ├┤ H ├┤2 oracle ├┤ H ├┤2 Diagonal ├»\n",
              "         ├───┤│         │├───┤│           │├───┤│         │├───┤│           │»\n",
              "q2639_3: ┤ H ├┤3        ├┤ H ├┤3          ├┤ H ├┤3        ├┤ H ├┤3          ├»\n",
              "         ├───┤│         │├───┤│           │├───┤│         │├───┤│           │»\n",
              "q2639_4: ┤ H ├┤4        ├┤ H ├┤4          ├┤ H ├┤4        ├┤ H ├┤4          ├»\n",
              "         └───┘└─────────┘└───┘└───────────┘└───┘└─────────┘└───┘└───────────┘»\n",
              " meas: 5/════════════════════════════════════════════════════════════════════»\n",
              "                                                                             »\n",
              "«         ┌───┐ ░ ┌─┐            \n",
              "«q2639_0: ┤ H ├─░─┤M├────────────\n",
              "«         ├───┤ ░ └╥┘┌─┐         \n",
              "«q2639_1: ┤ H ├─░──╫─┤M├─────────\n",
              "«         ├───┤ ░  ║ └╥┘┌─┐      \n",
              "«q2639_2: ┤ H ├─░──╫──╫─┤M├──────\n",
              "«         ├───┤ ░  ║  ║ └╥┘┌─┐   \n",
              "«q2639_3: ┤ H ├─░──╫──╫──╫─┤M├───\n",
              "«         ├───┤ ░  ║  ║  ║ └╥┘┌─┐\n",
              "«q2639_4: ┤ H ├─░──╫──╫──╫──╫─┤M├\n",
              "«         └───┘ ░  ║  ║  ║  ║ └╥┘\n",
              "« meas: 5/═════════╩══╩══╩══╩══╩═\n",
              "«                  0  1  2  3  4 "
            ],
            "text/html": [
              "<pre style=\"word-wrap: normal;white-space: pre;background: #fff0;line-height: 1.1;font-family: &quot;Courier New&quot;,Courier,monospace\">         ┌───┐┌─────────┐┌───┐┌───────────┐┌───┐┌─────────┐┌───┐┌───────────┐»\n",
              "q2639_0: ┤ H ├┤0        ├┤ H ├┤0          ├┤ H ├┤0        ├┤ H ├┤0          ├»\n",
              "         ├───┤│         │├───┤│           │├───┤│         │├───┤│           │»\n",
              "q2639_1: ┤ H ├┤1        ├┤ H ├┤1          ├┤ H ├┤1        ├┤ H ├┤1          ├»\n",
              "         ├───┤│         │├───┤│           │├───┤│         │├───┤│           │»\n",
              "q2639_2: ┤ H ├┤2 oracle ├┤ H ├┤2 Diagonal ├┤ H ├┤2 oracle ├┤ H ├┤2 Diagonal ├»\n",
              "         ├───┤│         │├───┤│           │├───┤│         │├───┤│           │»\n",
              "q2639_3: ┤ H ├┤3        ├┤ H ├┤3          ├┤ H ├┤3        ├┤ H ├┤3          ├»\n",
              "         ├───┤│         │├───┤│           │├───┤│         │├───┤│           │»\n",
              "q2639_4: ┤ H ├┤4        ├┤ H ├┤4          ├┤ H ├┤4        ├┤ H ├┤4          ├»\n",
              "         └───┘└─────────┘└───┘└───────────┘└───┘└─────────┘└───┘└───────────┘»\n",
              " meas: 5/════════════════════════════════════════════════════════════════════»\n",
              "                                                                             »\n",
              "«         ┌───┐ ░ ┌─┐            \n",
              "«q2639_0: ┤ H ├─░─┤M├────────────\n",
              "«         ├───┤ ░ └╥┘┌─┐         \n",
              "«q2639_1: ┤ H ├─░──╫─┤M├─────────\n",
              "«         ├───┤ ░  ║ └╥┘┌─┐      \n",
              "«q2639_2: ┤ H ├─░──╫──╫─┤M├──────\n",
              "«         ├───┤ ░  ║  ║ └╥┘┌─┐   \n",
              "«q2639_3: ┤ H ├─░──╫──╫──╫─┤M├───\n",
              "«         ├───┤ ░  ║  ║  ║ └╥┘┌─┐\n",
              "«q2639_4: ┤ H ├─░──╫──╫──╫──╫─┤M├\n",
              "«         └───┘ ░  ║  ║  ║  ║ └╥┘\n",
              "« meas: 5/═════════╩══╩══╩══╩══╩═\n",
              "«                  0  1  2  3  4 </pre>"
            ]
          },
          "metadata": {},
          "execution_count": 127
        }
      ]
    },
    {
      "cell_type": "code",
      "source": [
        "aer_sim = Aer.get_backend('aer_simulator')\n",
        "transpiled_grover_circuit = transpile(grov_qc, aer_sim)\n",
        "qobj = assemble(transpiled_grover_circuit)\n",
        "results = aer_sim.run(qobj).result()\n",
        "counts = results.get_counts()\n",
        "plot_histogram(counts)"
      ],
      "metadata": {
        "colab": {
          "base_uri": "https://localhost:8080/",
          "height": 356
        },
        "id": "XODjzgj-mohs",
        "outputId": "9fb7bfbf-54b2-46ea-ba17-728d7131f365"
      },
      "execution_count": 128,
      "outputs": [
        {
          "output_type": "execute_result",
          "data": {
            "text/plain": [
              "<Figure size 504x360 with 1 Axes>"
            ],
            "image/png": "[encoded data removed]"
          },
          "metadata": {},
          "execution_count": 128
        }
      ]
    },
    {
      "cell_type": "code",
      "source": [
        ""
      ],
      "metadata": {
        "id": "yDq45voGnXhi"
      },
      "execution_count": 97,
      "outputs": []
    },
    {
      "cell_type": "code",
      "source": [
        ""
      ],
      "metadata": {
        "id": "quBI8L3F-MNH"
      },
      "execution_count": 97,
      "outputs": []
    }
  ]
}